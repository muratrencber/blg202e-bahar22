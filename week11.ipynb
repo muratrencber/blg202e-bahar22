{
 "cells": [
  {
   "cell_type": "markdown",
   "metadata": {},
   "source": [
    "Add necessary libraries"
   ]
  },
  {
   "cell_type": "code",
   "execution_count": 1,
   "metadata": {},
   "outputs": [],
   "source": [
    "import numpy as np\n",
    "import matplotlib.pyplot as plt"
   ]
  },
  {
   "cell_type": "markdown",
   "metadata": {},
   "source": [
    "<h3>Interpolation</h3>\n",
    "Polynomial Interpolation"
   ]
  },
  {
   "cell_type": "code",
   "execution_count": 36,
   "metadata": {},
   "outputs": [],
   "source": [
    "class PolynomialInterpolator:\n",
    "    def __init__(self):\n",
    "        self.data = []\n",
    "        self.coefficients = []\n",
    "    def add_data(self, x, y):\n",
    "        self.data.append([x,y])\n",
    "        self.create_function()\n",
    "    def create_function(self):\n",
    "\n",
    "        #create the matrix, and y matrix\n",
    "        mtrx = []\n",
    "        size = len(self.data)\n",
    "        y_mtrx = []\n",
    "        for data in self.data:\n",
    "            x = data[0]\n",
    "            y = data[1]\n",
    "            y_mtrx.append([y])\n",
    "            row = []\n",
    "            for i in range(size):\n",
    "                row.append(x**i)\n",
    "            mtrx.append(row)\n",
    "        self.coefficients = np.linalg.solve(mtrx, y_mtrx)\n",
    "        return\n",
    "    def evaluate(self, x):\n",
    "        y = 0\n",
    "        for i in range(len(self.coefficients)):\n",
    "            y = y + self.coefficients[i][0] * (x**i)\n",
    "        return y\n",
    "    def plot(self):\n",
    "        x_vals = np.linspace(-5,5,200)\n",
    "        y_vals = self.evaluate(x_vals)\n",
    "        plt.plot(x_vals, y_vals)\n",
    "        for d in self.data:\n",
    "            x = d[0]\n",
    "            y = d[1]\n",
    "            plt.plot(x,y,marker=\"o\")"
   ]
  },
  {
   "cell_type": "markdown",
   "metadata": {},
   "source": [
    "Testing"
   ]
  },
  {
   "cell_type": "code",
   "execution_count": 37,
   "metadata": {},
   "outputs": [
    {
     "name": "stdout",
     "output_type": "stream",
     "text": [
      "-79.10909090909057\n",
      "20.00000000000003\n",
      "9.0\n",
      "-36.472727272727184\n"
     ]
    }
   ],
   "source": [
    "interpolator = PolynomialInterpolator()\n",
    "data = [[-3,3],[2,4],[3,9],[2.5,20]]\n",
    "for d in data:\n",
    "    interpolator.add_data(d[0], d[1])\n",
    "print(interpolator.evaluate(1))\n",
    "print(interpolator.evaluate(2.5))\n",
    "print(interpolator.evaluate(3))\n",
    "print(interpolator.evaluate(3.5))"
   ]
  },
  {
   "cell_type": "markdown",
   "metadata": {},
   "source": [
    "Plotting the data"
   ]
  },
  {
   "cell_type": "code",
   "execution_count": 38,
   "metadata": {},
   "outputs": [
    {
     "data": {
      "image/png": "[encoded data removed]",
      "text/plain": [
       "<Figure size 432x288 with 1 Axes>"
      ]
     },
     "metadata": {
      "needs_background": "light"
     },
     "output_type": "display_data"
    }
   ],
   "source": [
    "interpolator.plot()"
   ]
  },
  {
   "cell_type": "markdown",
   "metadata": {},
   "source": [
    "Perturbate data slightly"
   ]
  },
  {
   "cell_type": "code",
   "execution_count": 43,
   "metadata": {},
   "outputs": [
    {
     "data": {
      "image/png": "[encoded data removed]",
      "text/plain": [
       "<Figure size 432x288 with 1 Axes>"
      ]
     },
     "metadata": {
      "needs_background": "light"
     },
     "output_type": "display_data"
    }
   ],
   "source": [
    "interpolator_perturbated = PolynomialInterpolator()\n",
    "perturbate_amount = 1\n",
    "for d in data:\n",
    "    x = d[0] + perturbate_amount\n",
    "    y = d[1]\n",
    "    interpolator_perturbated.add_data(x,y)\n",
    "interpolator.plot()\n",
    "interpolator_perturbated.plot()"
   ]
  },
  {
   "cell_type": "markdown",
   "metadata": {},
   "source": [
    "<h3>Lagrange Interpolation</h3>"
   ]
  },
  {
   "cell_type": "code",
   "execution_count": 86,
   "metadata": {},
   "outputs": [],
   "source": [
    "class LagrangeInterpolator:\n",
    "    def __init__(self):\n",
    "        self.x_values = []\n",
    "        self.y_values = []\n",
    "        self.dividers = []\n",
    "        \n",
    "    def add_data(self, x, y):\n",
    "        self.x_values.append(x)\n",
    "        self.y_values.append(y)\n",
    "\n",
    "        is_first = len(self.x_values) == 1\n",
    "        if is_first:\n",
    "            self.create_dividers()\n",
    "        else:\n",
    "            self.adjust_dividers(x)\n",
    "\n",
    "    def create_dividers(self):\n",
    "        self.dividers = []\n",
    "        data_length = len(self.x_values)\n",
    "        for i in range(data_length):\n",
    "            divider = 1\n",
    "            for j in range(data_length):\n",
    "                if j == i:\n",
    "                    continue\n",
    "                divider = divider * (self.x_values[i] - self.x_values[j])\n",
    "            self.dividers.append(divider)\n",
    "\n",
    "    def adjust_dividers(self, lastx):\n",
    "        data_length = len(self.x_values)\n",
    "        for i in range(data_length - 1):\n",
    "            self.dividers[i] *= (self.x_values[i] - lastx)\n",
    "            \n",
    "        current_divider = 1\n",
    "        for i in range(data_length - 1):\n",
    "            current_divider = current_divider * (lastx - self.x_values[i])\n",
    "        self.dividers.append(current_divider)\n",
    "\n",
    "    def evaluate(self, x):\n",
    "        if x in self.x_values:\n",
    "            has_index = self.x_values.index(x)\n",
    "            return self.y_values[has_index]\n",
    "        total_mult = 1\n",
    "        for other_x in self.x_values:\n",
    "            total_mult = total_mult * (x - other_x)\n",
    "        y = 0\n",
    "        for i in range(len(self.dividers)):\n",
    "            y += (total_mult / (x - self.x_values[i]) / self.dividers[i] * self.y_values[i])\n",
    "        return y\n",
    "\n",
    "    def plot(self):\n",
    "        x_vals = np.linspace(-5,5,200)\n",
    "        y_vals = []\n",
    "        x_len = len(self.x_values)\n",
    "        for x in x_vals:\n",
    "            y_vals.append(self.evaluate(x))\n",
    "        plt.plot(x_vals, y_vals)\n",
    "        for i in range(x_len):\n",
    "            x = self.x_values[i]\n",
    "            y = self.y_values[i]\n",
    "            plt.plot(x,y,marker=\"o\")"
   ]
  },
  {
   "cell_type": "markdown",
   "metadata": {},
   "source": [
    "Add same data to this interpolator"
   ]
  },
  {
   "cell_type": "code",
   "execution_count": 87,
   "metadata": {},
   "outputs": [
    {
     "name": "stdout",
     "output_type": "stream",
     "text": [
      "-79.10909090909057\n",
      "20.00000000000003\n",
      "9.0\n",
      "-36.472727272727184\n"
     ]
    }
   ],
   "source": [
    "lagrange_interpolator = LagrangeInterpolator()\n",
    "\n",
    "data_lag = [[-3,3],[2,4],[3,9],[2.5,20]]\n",
    "for d in data_lag:\n",
    "    lagrange_interpolator.add_data(d[0], d[1])\n",
    "print(interpolator.evaluate(1))\n",
    "print(interpolator.evaluate(2.5))\n",
    "print(interpolator.evaluate(3))\n",
    "print(interpolator.evaluate(3.5))"
   ]
  },
  {
   "cell_type": "markdown",
   "metadata": {},
   "source": [
    "Plot"
   ]
  },
  {
   "cell_type": "code",
   "execution_count": 90,
   "metadata": {},
   "outputs": [
    {
     "data": {
      "image/png": "[encoded data removed]",
      "text/plain": [
       "<Figure size 432x288 with 1 Axes>"
      ]
     },
     "metadata": {
      "needs_background": "light"
     },
     "output_type": "display_data"
    }
   ],
   "source": [
    "lagrange_interpolator.plot()\n",
    "interpolator.plot()\n",
    "plt.show()"
   ]
  }
 ],
 "metadata": {
  "kernelspec": {
   "display_name": "venv",
   "language": "python",
   "name": "venv"
  },
  "language_info": {
   "codemirror_mode": {
    "name": "ipython",
    "version": 3
   },
   "file_extension": ".py",
   "mimetype": "text/x-python",
   "name": "python",
   "nbconvert_exporter": "python",
   "pygments_lexer": "ipython3",
   "version": "3.9.2"
  },
  "orig_nbformat": 4
 },
 "nbformat": 4,
 "nbformat_minor": 2
}
